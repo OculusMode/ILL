{
  "nbformat": 4,
  "nbformat_minor": 0,
  "metadata": {
    "colab": {
      "name": "Subspaces_with_ILL.ipynb",
      "provenance": [],
      "collapsed_sections": [],
      "authorship_tag": "ABX9TyP1J5P56py8D6Koc2sOZykg",
      "include_colab_link": true
    },
    "kernelspec": {
      "name": "python3",
      "display_name": "Python 3"
    },
    "language_info": {
      "name": "python"
    }
  },
  "cells": [
    {
      "cell_type": "markdown",
      "metadata": {
        "id": "view-in-github",
        "colab_type": "text"
      },
      "source": [
        "<a href=\"https://colab.research.google.com/github/OculusMode/ILL/blob/main/experimental/Subspaces_with_ILL.ipynb\" target=\"_parent\"><img src=\"https://colab.research.google.com/assets/colab-badge.svg\" alt=\"Open In Colab\"/></a>"
      ]
    },
    {
      "cell_type": "code",
      "execution_count": 2,
      "metadata": {
        "id": "95X1Jeh0EXpu"
      },
      "outputs": [],
      "source": [
        "import numpy as np\n",
        "from numpy import random\n",
        "from numpy import linalg as LA"
      ]
    },
    {
      "cell_type": "code",
      "source": [
        "N = 10\n",
        "while True:\n",
        "  random_matrix = np.random.random((N, N))\n",
        "  random_basis, _ = LA.qr(random_matrix)\n",
        "  if LA.matrix_rank(random_basis) == N:\n",
        "    break\n",
        "random_basis"
      ],
      "metadata": {
        "id": "P3ECQgROHLaP",
        "outputId": "1e3abf4c-b364-41a2-8f04-c4fa3a443505",
        "colab": {
          "base_uri": "https://localhost:8080/"
        }
      },
      "execution_count": 3,
      "outputs": [
        {
          "output_type": "execute_result",
          "data": {
            "text/plain": [
              "array([[-0.40021388,  0.22366225,  0.07284781,  0.51727684,  0.10740444,\n",
              "        -0.14276293,  0.54846353, -0.21235634,  0.0890686 , -0.36216609],\n",
              "       [-0.10626057, -0.02291417,  0.04847707, -0.47336396,  0.75094402,\n",
              "        -0.3202785 , -0.05896439, -0.09355285, -0.0952046 , -0.2719781 ],\n",
              "       [-0.16680541, -0.52149557, -0.31076014, -0.19036591, -0.19817107,\n",
              "        -0.03069509,  0.39817571, -0.1891792 , -0.57442238,  0.05384775],\n",
              "       [-0.45212247,  0.20641052, -0.15707522, -0.40254575, -0.00809491,\n",
              "         0.60470104,  0.18908597,  0.36581508,  0.13250043, -0.1157793 ],\n",
              "       [-0.12303786,  0.02791733,  0.41392633, -0.17703145,  0.0440316 ,\n",
              "         0.36449034,  0.02003587, -0.7258869 ,  0.09454532,  0.33220947],\n",
              "       [-0.07100798, -0.02145305,  0.5744789 , -0.24824398, -0.14875789,\n",
              "        -0.37370806,  0.41136944,  0.38233537,  0.07458401,  0.34654294],\n",
              "       [-0.0231733 , -0.43583613, -0.11677011, -0.24446166, -0.2844171 ,\n",
              "        -0.17930951,  0.02585438, -0.17847522,  0.7016097 , -0.31351251],\n",
              "       [-0.55016671,  0.25078887,  0.09092847, -0.13351311, -0.42923493,\n",
              "        -0.3277855 , -0.48693776, -0.10805156, -0.22199161, -0.13630129],\n",
              "       [-0.12675017, -0.53561192,  0.54096325,  0.23968673,  0.06833888,\n",
              "         0.29845065, -0.2351464 ,  0.21465917, -0.15572744, -0.35720706],\n",
              "       [-0.50678624, -0.30646252, -0.23493228,  0.28647302,  0.30221923,\n",
              "        -0.09620784, -0.19676546,  0.11766043,  0.23493907,  0.55103453]])"
            ]
          },
          "metadata": {},
          "execution_count": 3
        }
      ]
    },
    {
      "cell_type": "code",
      "source": [
        ""
      ],
      "metadata": {
        "id": "KW3N0ob_HR_W"
      },
      "execution_count": null,
      "outputs": []
    }
  ]
}