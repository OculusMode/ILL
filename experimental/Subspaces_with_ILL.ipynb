{
  "nbformat": 4,
  "nbformat_minor": 0,
  "metadata": {
    "colab": {
      "name": "Subspaces_with_ILL.ipynb",
      "provenance": [],
      "collapsed_sections": [],
      "authorship_tag": "ABX9TyPPw0shKweJ2VpZyIUPx4Gq",
      "include_colab_link": true
    },
    "kernelspec": {
      "name": "python3",
      "display_name": "Python 3"
    },
    "language_info": {
      "name": "python"
    }
  },
  "cells": [
    {
      "cell_type": "markdown",
      "metadata": {
        "id": "view-in-github",
        "colab_type": "text"
      },
      "source": [
        "<a href=\"https://colab.research.google.com/github/OculusMode/ILL/blob/main/experimental/Subspaces_with_ILL.ipynb\" target=\"_parent\"><img src=\"https://colab.research.google.com/assets/colab-badge.svg\" alt=\"Open In Colab\"/></a>"
      ]
    },
    {
      "cell_type": "code",
      "execution_count": 2,
      "metadata": {
        "id": "95X1Jeh0EXpu"
      },
      "outputs": [],
      "source": [
        "import numpy as np\n",
        "from numpy import random\n",
        "from numpy import linalg as LA"
      ]
    },
    {
      "cell_type": "code",
      "source": [
        "N = 10\n",
        "M = 4\n",
        "def get_random_bases(N):\n",
        "  while True:\n",
        "    random_matrix = np.random.random((N, N))\n",
        "    random_basis, _ = LA.qr(random_matrix)\n",
        "    # making sure we got 10 basis\n",
        "    if LA.matrix_rank(random_basis) == N:\n",
        "      break\n",
        "  return random_basis\n",
        "\n",
        "def get_random_vector(N, is_normalized = True):\n",
        "  v = random.random(N)\n",
        "  return v/LA.norm(v)\n",
        "\n",
        "# get_random_bases(10)\n",
        "# get_random_vector(10)"
      ],
      "metadata": {
        "id": "P3ECQgROHLaP"
      },
      "execution_count": 90,
      "outputs": []
    },
    {
      "cell_type": "code",
      "source": [
        "def get_random_subspace_indexes(N, M):\n",
        "  # putting N-2 since we want maximum number as N-1\n",
        "  # taking number M-1 times since we will use last left out portion for last partition\n",
        "  split_points = np.random.choice(N - 2, M - 1, replace=False) + 1\n",
        "  split_points.sort()\n",
        "  data = np.arange(N)\n",
        "  random.shuffle(data)\n",
        "  random_subspace_indexes = np.split(data, split_points)\n",
        "  return random_subspace_indexes\n",
        "\n",
        "def make_partition(basis_matrix, N, M):\n",
        "  # given an orthonormal basis matrix, give M random subpaces which have no basis in common\n",
        "  indexes = get_random_subspace_indexes(N, M)\n",
        "  # return [(basis_matrix[i], i) for i in indexes]\n",
        "  return tuple(basis_matrix[i] for i in indexes), indexes\n",
        "\n",
        "def make_random_partitions(basis_matrix, total_partitions, N):\n",
        "  mean = N//2\n",
        "  std = N/8\n",
        "  # I am using normal distribution for this, since we will have more possibility on the middle side.\n",
        "  s = np.rint(random.normal(mean, std, total_partitions))\n",
        "  \"\"\"\n",
        "  # WE CAN DO THIS TO SEE OUR DISTRIBUTION OVER HISTOGRAM\n",
        "  import matplotlib.pyplot as plt\n",
        "  num_bins = N//2\n",
        "  n, bins, patches = plt.hist(s, num_bins)\n",
        "  plt.show()\n",
        "  \"\"\"\n",
        "  for i in s:\n",
        "    if 0<i<N:\n",
        "      print(make_partition(basis_matrix, N, M=int(i))[1])\n",
        "\n",
        "random_basis = get_random_bases(N)\n",
        "# make_partition(random_basis, N, M)\n",
        "make_random_partitions(random_basis, 100, 10)"
      ],
      "metadata": {
        "colab": {
          "base_uri": "https://localhost:8080/"
        },
        "id": "LEoNBIT-oDPi",
        "outputId": "e51710a3-dceb-4ca8-a94e-bd634ff3aaa2"
      },
      "execution_count": 123,
      "outputs": [
        {
          "output_type": "stream",
          "name": "stdout",
          "text": [
            "[array([5, 2, 3]), array([1]), array([0]), array([4, 7, 9]), array([6, 8])]\n",
            "[array([9]), array([2]), array([3, 7, 8]), array([0, 4, 6]), array([5, 1])]\n",
            "[array([3]), array([2, 0, 4, 5, 1]), array([6]), array([9]), array([7, 8])]\n",
            "[array([1]), array([4]), array([5]), array([7]), array([9, 8]), array([6]), array([0]), array([3, 2])]\n",
            "[array([7]), array([2]), array([3, 9, 1, 6, 8, 5, 4, 0])]\n",
            "[array([3]), array([6, 2]), array([8, 7]), array([4, 0, 9, 1, 5])]\n",
            "[array([5, 3, 8, 0]), array([4, 2]), array([6]), array([1]), array([7, 9])]\n",
            "[array([4, 9, 0]), array([8]), array([7, 3]), array([5]), array([2, 1, 6])]\n",
            "[array([9]), array([5]), array([8]), array([0]), array([2, 3, 6, 1, 4, 7])]\n",
            "[array([9, 1]), array([5, 7]), array([4, 3]), array([6, 8]), array([0, 2])]\n",
            "[array([7]), array([6, 5]), array([4, 0]), array([9]), array([1]), array([2, 3, 8])]\n",
            "[array([1, 3, 5]), array([0]), array([2, 9]), array([8]), array([4, 6, 7])]\n",
            "[array([7]), array([2, 5]), array([3]), array([1, 9]), array([8, 4, 0, 6])]\n",
            "[array([0]), array([3, 6]), array([8]), array([2, 1]), array([4, 9, 5, 7])]\n",
            "[array([4, 7, 3, 9]), array([1, 6]), array([0, 8]), array([2, 5])]\n",
            "[array([4, 1]), array([9]), array([3]), array([0]), array([8, 5, 7, 2, 6])]\n",
            "[array([4, 6]), array([5]), array([8, 2, 1, 3, 0]), array([7, 9])]\n",
            "[array([8, 6]), array([5, 1, 3]), array([0]), array([7]), array([4, 9, 2])]\n",
            "[array([3, 2, 0, 1, 4]), array([9, 5, 8]), array([7, 6])]\n",
            "[array([0]), array([7]), array([1, 5, 4, 9, 8, 3]), array([6, 2])]\n",
            "[array([9, 6, 1, 5, 2, 8, 0]), array([3]), array([4, 7])]\n",
            "[array([6, 9, 8]), array([2]), array([1, 4, 7, 5, 0, 3])]\n",
            "[array([0, 2]), array([3]), array([9]), array([8, 7, 4]), array([6]), array([5, 1])]\n",
            "[array([4, 3]), array([5]), array([8]), array([6]), array([9]), array([1, 7]), array([0, 2])]\n",
            "[array([5]), array([3, 8, 1, 0, 2, 9, 4]), array([6, 7])]\n",
            "[array([2]), array([3]), array([1]), array([5]), array([9, 6, 8, 7]), array([0, 4])]\n",
            "[array([7, 1]), array([9, 6, 4, 0, 3, 2]), array([5, 8])]\n",
            "[array([1]), array([8, 7, 0]), array([3]), array([4, 2, 5, 9, 6])]\n",
            "[array([7, 6, 1]), array([5]), array([8]), array([0]), array([9]), array([3]), array([2, 4])]\n",
            "[array([0]), array([1, 7, 6]), array([4, 9, 8, 2]), array([3, 5])]\n",
            "[array([7]), array([5]), array([4, 2]), array([8]), array([6, 3, 9, 1, 0])]\n",
            "[array([5, 7]), array([4, 2]), array([8]), array([6, 1, 3, 9, 0])]\n",
            "[array([3, 0]), array([2, 6]), array([4]), array([8]), array([1, 5, 7, 9])]\n",
            "[array([1, 5]), array([4]), array([7]), array([8]), array([0]), array([3, 9, 2, 6])]\n",
            "[array([0]), array([2, 3]), array([6, 4]), array([7]), array([5, 8, 9, 1])]\n",
            "[array([5]), array([8, 4]), array([2, 9]), array([3]), array([1]), array([6]), array([7, 0])]\n",
            "[array([9, 0, 2, 3, 1, 8, 7]), array([5, 4, 6])]\n",
            "[array([1]), array([3, 0]), array([4, 6, 9]), array([7, 5]), array([2, 8])]\n",
            "[array([8, 6]), array([0, 4, 9]), array([1, 7, 5]), array([2, 3])]\n",
            "[array([3, 4]), array([7, 2, 8]), array([9]), array([6]), array([0]), array([1, 5])]\n",
            "[array([8, 7, 2]), array([3]), array([9]), array([1]), array([5, 0, 6, 4])]\n",
            "[array([6]), array([2, 3]), array([1, 9]), array([4, 7, 5, 8, 0])]\n",
            "[array([7]), array([6]), array([2]), array([4]), array([0, 3, 8]), array([9]), array([1, 5])]\n",
            "[array([1]), array([6, 3]), array([0, 5, 4]), array([8]), array([7, 2, 9])]\n",
            "[array([7]), array([3, 4, 9]), array([5]), array([0]), array([6, 1]), array([8, 2])]\n",
            "[array([8]), array([5, 3, 2, 1, 9]), array([0, 7, 4, 6])]\n",
            "[array([3, 7]), array([9, 4]), array([5]), array([8, 6]), array([1, 0, 2])]\n",
            "[array([6, 9]), array([1]), array([0]), array([8, 3]), array([7, 5]), array([2, 4])]\n",
            "[array([3]), array([5, 8, 6, 4, 0]), array([1, 9, 7, 2])]\n",
            "[array([5, 6]), array([3, 8]), array([1, 2]), array([0]), array([7, 4, 9])]\n",
            "[array([0]), array([6, 8, 1, 3]), array([2, 5, 4, 7, 9])]\n",
            "[array([5, 8]), array([1, 2, 6, 4]), array([7]), array([3]), array([0, 9])]\n",
            "[array([3, 9, 5]), array([6, 7]), array([1]), array([2]), array([8, 4, 0])]\n",
            "[array([4]), array([7, 9]), array([2]), array([3, 8]), array([5]), array([0, 6, 1])]\n",
            "[array([5]), array([3, 0, 9]), array([2, 7]), array([1]), array([4, 6, 8])]\n",
            "[array([4, 0]), array([9, 1, 2]), array([3]), array([7]), array([8]), array([5, 6])]\n",
            "[array([1, 7, 6]), array([2, 3]), array([4, 8]), array([5]), array([0, 9])]\n",
            "[array([7]), array([9, 5]), array([6]), array([8]), array([1]), array([4, 0]), array([2, 3])]\n",
            "[array([4, 2, 7]), array([1]), array([6, 5]), array([8]), array([0]), array([3, 9])]\n",
            "[array([5]), array([9]), array([0, 1, 4, 8]), array([3]), array([2, 7, 6])]\n",
            "[array([7]), array([6]), array([3, 2, 1, 0, 8]), array([9]), array([4, 5])]\n",
            "[array([2]), array([5]), array([6]), array([4, 0, 3, 7]), array([9, 1, 8])]\n",
            "[array([7, 0]), array([2, 1, 9]), array([6, 5, 4]), array([3, 8])]\n",
            "[array([1, 9, 5]), array([2]), array([3]), array([4]), array([6, 8]), array([0, 7])]\n",
            "[array([0, 2]), array([5, 1, 7]), array([9]), array([4, 8, 6, 3])]\n",
            "[array([4, 9]), array([8]), array([3, 7]), array([6, 5, 1]), array([0, 2])]\n",
            "[array([5, 1, 2]), array([9]), array([8]), array([6]), array([3, 7]), array([4, 0])]\n",
            "[array([2]), array([3]), array([4, 7, 8, 0]), array([6, 1, 5, 9])]\n",
            "[array([8]), array([1, 6, 4, 9]), array([7]), array([2]), array([0, 3, 5])]\n",
            "[array([0]), array([6, 4, 3]), array([7]), array([9, 5, 1]), array([8, 2])]\n",
            "[array([7, 2, 0]), array([9]), array([1]), array([5]), array([4, 3]), array([6, 8])]\n",
            "[array([0, 4]), array([7]), array([5, 3, 1]), array([2]), array([8]), array([6, 9])]\n",
            "[array([2, 8, 5]), array([9]), array([3]), array([0]), array([7, 6, 1, 4])]\n",
            "[array([6, 0, 5]), array([8, 9]), array([2]), array([3, 1]), array([7, 4])]\n",
            "[array([1]), array([8, 0]), array([4, 7]), array([3]), array([6]), array([5, 2, 9])]\n",
            "[array([6]), array([4, 5]), array([0]), array([1]), array([9, 8, 3]), array([7, 2])]\n",
            "[array([7, 5]), array([2]), array([9]), array([1, 4, 0, 8]), array([3, 6])]\n",
            "[array([4, 1, 9, 2]), array([7, 3, 5, 6]), array([8, 0])]\n",
            "[array([6, 4, 9, 5]), array([7]), array([2]), array([3]), array([0, 8, 1])]\n",
            "[array([9, 7]), array([4]), array([1, 3]), array([6]), array([0, 5, 2, 8])]\n",
            "[array([1]), array([7]), array([0]), array([3, 4, 8]), array([6, 9]), array([2, 5])]\n",
            "[array([7]), array([2]), array([1]), array([3]), array([9]), array([6, 0]), array([5]), array([8, 4])]\n",
            "[array([2, 8, 9, 5]), array([7]), array([0, 6]), array([1]), array([3, 4])]\n",
            "[array([2]), array([0, 8, 3, 4]), array([1]), array([9, 7, 5, 6])]\n",
            "[array([2, 4]), array([6, 9]), array([8]), array([3]), array([1]), array([7]), array([0, 5])]\n",
            "[array([9]), array([2, 6, 5, 8]), array([0, 4]), array([3]), array([7, 1])]\n",
            "[array([9, 2]), array([1, 5, 0, 8]), array([3]), array([4]), array([7, 6])]\n",
            "[array([3]), array([9, 1]), array([2]), array([6, 7, 8]), array([4]), array([5, 0])]\n",
            "[array([3, 0]), array([9, 8, 7, 5]), array([1, 2]), array([6, 4])]\n",
            "[array([2]), array([8]), array([6, 1]), array([4, 7]), array([3]), array([0, 5, 9])]\n",
            "[array([0]), array([2, 5, 8]), array([3, 4]), array([6]), array([1, 9, 7])]\n",
            "[array([4]), array([3]), array([7, 8]), array([1]), array([9]), array([2]), array([0]), array([6, 5])]\n",
            "[array([0, 5, 8, 6]), array([1]), array([7]), array([2, 4]), array([9, 3])]\n",
            "[array([8]), array([4, 9]), array([5]), array([6, 7, 1, 0]), array([3, 2])]\n",
            "[array([1]), array([9]), array([2, 6]), array([0, 8]), array([3, 5, 4, 7])]\n",
            "[array([7, 9]), array([1]), array([0]), array([3, 5]), array([4, 8, 6, 2])]\n",
            "[array([6]), array([2, 8, 3]), array([7]), array([9]), array([5]), array([1, 4, 0])]\n",
            "[array([7, 2, 4, 6, 3, 8, 0, 1]), array([9, 5])]\n",
            "[array([8]), array([3, 7]), array([4]), array([6]), array([2]), array([5, 1, 0, 9])]\n",
            "[array([4, 8, 3]), array([7]), array([2, 9, 6]), array([0]), array([5, 1])]\n"
          ]
        }
      ]
    },
    {
      "cell_type": "code",
      "source": [
        ""
      ],
      "metadata": {
        "colab": {
          "base_uri": "https://localhost:8080/"
        },
        "id": "KoLBcQHcpvi6",
        "outputId": "5956e827-01e3-492e-c29e-fbbf3f8f62e0"
      },
      "execution_count": 86,
      "outputs": [
        {
          "output_type": "stream",
          "name": "stdout",
          "text": [
            "100\n"
          ]
        }
      ]
    },
    {
      "cell_type": "code",
      "source": [
        ""
      ],
      "metadata": {
        "colab": {
          "base_uri": "https://localhost:8080/"
        },
        "id": "Q73qyss64aG3",
        "outputId": "401bb302-603f-4b48-fd84-86d8a2834ea5"
      },
      "execution_count": 64,
      "outputs": [
        {
          "output_type": "execute_result",
          "data": {
            "text/plain": [
              "array([0.15335178, 0.73141882, 0.92942799, 0.46085146, 0.54778756,\n",
              "       0.59132502])"
            ]
          },
          "metadata": {},
          "execution_count": 64
        }
      ]
    }
  ]
}